{
 "cells": [
  {
   "cell_type": "markdown",
   "id": "36d7a990-4df8-4346-917f-f3cd1650b124",
   "metadata": {},
   "source": [
    "# ▸ K-Means Clustering for Turbulence Risk Grouping\n",
    "\n",
    "This notebook applies K-Means clustering to the PCA-reduced weather data to discover natural groupings of flight conditions. It enables the identification of distinct turbulence risk zones in an unsupervised way, independent of labeled training data.\n",
    "\n",
    "---"
   ]
  },
  {
   "cell_type": "markdown",
   "id": "1566b702-ed6a-4e63-b0df-f8db537c0ca1",
   "metadata": {},
   "source": [
    "## 1. Optimal k using Elbow Method\n",
    "\n",
    "To determine the best number of clusters (k), the Elbow Method was used to plot inertia values across a range of k values from 2 to 12.\n",
    "\n",
    "<!-- elbow_plot.png -->\n",
    "![elbow_plot](images/elbow_plot.png)\n",
    "\n",
    "As observed, the optimal \"elbow point\" occurs around k = 3, which balances model simplicity and cluster separation.\n",
    "\n",
    "---"
   ]
  },
  {
   "cell_type": "markdown",
   "id": "1c529635-333d-41d1-beb7-587ccee2895d",
   "metadata": {},
   "source": [
    "# 2. Applying K-Means and Labeling Risk Clusters\n",
    "\n",
    "Once k=3 was chosen, K-Means clustering was applied on the PCA-reduced data.\n",
    "\n",
    "To identify which clusters represent turbulence-prone conditions, the percentage of SEV–EXTRM cases was calculated in each cluster. A cluster was marked as \"high-risk\" if its percentage of turbulence reports exceeded a dynamic threshold:\n",
    "\n",
    "```python\n",
    "Dynamic Threshold = Mean + 0.7 × Std\n",
    "```\n",
    "\n",
    "This thresholding strategy ensures only **truly high-risk clusters** are flagged, even if they are small or rare.\n",
    "```python\n",
    "Cluster 2 → 82.35% SEV–EXTRM → High-Risk\n",
    "Cluster 1 → 32.65% SEV–EXTRM\n",
    "Cluster 0 → 19.25% SEV–EXTRM\n",
    "\n",
    "```\n",
    "\n",
    "→  **Cluster 2**  was dynamically labeled as the high-risk group.\n",
    "\n",
    "---"
   ]
  },
  {
   "cell_type": "markdown",
   "id": "88a0cf92-5b02-412c-9de2-139968794bd2",
   "metadata": {},
   "source": [
    "## 3. 3D PCA Visualization of Clusters\n",
    "\n",
    "A 3D PCA space with color-coded clusters is visualized to show how turbulence risk groups are spatially organized.\n",
    "\n",
    "![risk_clusters](images/risk_clusters.png)\n",
    "\n",
    "This visual reinforces how certain turbulence regimes (in red) are separated from other clusters in unsupervised space which gives useful cues to both **machine learning models** and **aviation analysts**.\n",
    "\n",
    "---"
   ]
  },
  {
   "cell_type": "markdown",
   "id": "4feba51c-d738-4033-9a6d-eaee4661b923",
   "metadata": {},
   "source": [
    "## Why This Matters\n",
    "\n",
    "**Identifying turbulence-prone clusters without supervision is extremely valuable in aviation**:\n",
    "\n",
    "✧ Enables early detection of unseen risk patterns, even in unlabeled regions.\n",
    "\n",
    "✧ Helps group atmospheric behaviors in ways meaningful for forecasting.\n",
    "\n",
    "✧ Informs flight planning tools or alerts using unsupervised risk indicators.\n",
    "\n",
    "✧ Gives operational teams a view of emerging high-risk weather zones not caught by traditional models.\n",
    "\n",
    "Combined with supervised models, this approach adds resilience and interpretability to the overall turbulence-risk prediction system."
   ]
  }
 ],
 "metadata": {
  "kernelspec": {
   "display_name": "Python (projectML)",
   "language": "python",
   "name": "projectml"
  },
  "language_info": {
   "codemirror_mode": {
    "name": "ipython",
    "version": 3
   },
   "file_extension": ".py",
   "mimetype": "text/x-python",
   "name": "python",
   "nbconvert_exporter": "python",
   "pygments_lexer": "ipython3",
   "version": "3.12.2"
  }
 },
 "nbformat": 4,
 "nbformat_minor": 5
}
