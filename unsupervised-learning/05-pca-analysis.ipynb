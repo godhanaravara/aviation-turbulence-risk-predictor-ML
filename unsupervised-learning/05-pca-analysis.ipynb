{
 "cells": [
  {
   "cell_type": "markdown",
   "id": "67909078-9628-4405-9314-963ab047468d",
   "metadata": {},
   "source": [
    "# ▸ PCA Analysis for Dimensionality Reduction\n",
    "\n",
    "\n",
    "This notebook applies Principal Component Analysis (PCA) to reduce the dimensionality of the weather-based feature set. The goal is to retain 95% of the variance while simplifying the dataset for clustering and visualization.\n",
    "\n",
    "---\n",
    "## 1. Standardization and PCA Application\n",
    "\n",
    "\n",
    "```python\n",
    "from sklearn.preprocessing import StandardScaler\r\n",
    "from sklearn.decomposition import PCA\r\n",
    "\r\n",
    "# Standardize features\r\n",
    "scaler = StandardScaler()\r\n",
    "X_scaled = scaler.fit_transform(df[feature_cols])\r\n",
    "\r\n",
    "# Apply PCA to retain 95% of variance\r\n",
    "pca = PCA(n_components=0.95)\r\n",
    "X_pca = pca.fit_transform(X_scaled)\r\n",
    "\r\n",
    "print(f\"Shape after PCA: {X_pca.shape}\")\r\n",
    "\n",
    "```"
   ]
  },
  {
   "cell_type": "markdown",
   "id": "56c85e09-37c2-4ee2-9104-5d72dede5e07",
   "metadata": {},
   "source": [
    "\n",
    "---\n",
    "## 2. 2D PCA Projection of Turbulence Samples & Variance\n",
    "\n",
    "A 2D scatter plot using PC1 and PC2 was generated externally to highlight the distribution of NEG and SEV–EXTRM samples. The figure below helps visually assess the overlap and separation between turbulence categories in PCA-reduced space.\n",
    "\n",
    "```python\n",
    "plt.figure(figsize=(12, 8), dpi=300)\n",
    "sns.scatterplot(\n",
    "    data=pca_5_1, \n",
    "    x='PC1', \n",
    "    y='PC2', \n",
    "    hue='binary_target', \n",
    "    alpha=0.3, \n",
    "    palette={0: 'blue', 1: 'red'},\n",
    "    legend=False  # Added custom legend below\n",
    ")\n",
    "\n",
    "# Labels and title\n",
    "plt.title(\"Scatter Plot for PC1 and PC2\", fontsize=16)\n",
    "plt.xlabel(\"PC1\", fontsize=14)\n",
    "plt.ylabel(\"PC2\", fontsize=14)\n",
    "plt.xticks(fontsize=12)\n",
    "plt.yticks(fontsize=12)\n",
    "plt.grid(True)\n",
    "\n",
    "# Custom legend\n",
    "legend_handles = [\n",
    "    plt.Line2D([0], [0], marker='o', color='w', label='NEG', markerfacecolor='blue', markersize=8),\n",
    "    plt.Line2D([0], [0], marker='o', color='w', label='SEV+EXTRM', markerfacecolor='red', markersize=8)\n",
    "]\n",
    "plt.legend(handles=legend_handles, title=\"Turbulence\", fontsize=12, title_fontsize=13)\n",
    "\n",
    "plt.tight_layout()\n",
    "plt.savefig(\"pca_scatter_PC1_vs_PC2.png\", dpi=300, bbox_inches='tight')\n",
    "plt.show()\n",
    "```"
   ]
  },
  {
   "cell_type": "markdown",
   "id": "79feb7ee-6f5f-4006-8532-df1f48c2a030",
   "metadata": {},
   "source": [
    "<!-- `pca_scatter_PC1_vs_PC2.png` -->\n",
    "This 2D scatter plot shows the projection of turbulence samples on the first two principal components (PC1 and PC2).  \n",
    "\n",
    "🔵 NEG: No turbulence\n",
    "\n",
    "🔴 SEV–EXTRM: Severe or extreme turbulence\n",
    "\n",
    "![PIREPs Map](images/pca_scatter_PC1_vs_PC2.png)\n",
    "\n",
    "The overlap between classes highlights the challenge of linearly separating turbulence using raw features, justifying further clustering.\n",
    "\n",
    "```python\n",
    "explained_variance = pca_obj_5_1.explained_variance_ratio_\n",
    "print(f\"PC1: {explained_variance[0]:.2%}, PC2: {explained_variance[1]:.2%}\")\n",
    "\n",
    "▸ PC1: 29.15%, PC2: 15.15%\n",
    "```\n",
    "\n",
    "---"
   ]
  },
  {
   "cell_type": "markdown",
   "id": "ffa4e8d6-43c5-4562-9ecc-27ec02165ab9",
   "metadata": {},
   "source": [
    "## 3. Top Feature Contributions to PC1\n",
    "\n",
    "To interpret what PC1 represents, the top 10 features contributing to this principal component were visualized.\n",
    "\n",
    "![PIREPs Map](images/pc1_top_features.png)\n",
    "\n",
    "Interpretation:\n",
    "PC1 is heavily influenced by:\n",
    "\n",
    "- Cloud cover, humidity, ice water content, and vertical wind motion, which are all meteorological indicators related to potential turbulence conditions."
   ]
  },
  {
   "cell_type": "markdown",
   "id": "603ec25c-271b-419a-a239-445b2d025b59",
   "metadata": {},
   "source": [
    "## 4. Cross-Validation with SHAP Importance\n",
    "To validate PCA findings, SHAP (SHapley Additive exPlanations) was applied to a trained XGBoost model using the same features. The SHAP results confirm that cloud-related features and vertical velocity play a critical role.\n",
    "\n",
    "![SHAP_importance](images/SHAP_importance.png)\n",
    "\n",
    "Interpretation:\n",
    "- **SHAP and PCA both highlight similar influential features**. This consistency strengthens trust in both the model and the dimensionality reduction step."
   ]
  },
  {
   "cell_type": "markdown",
   "id": "52e0e6e4-f1f9-4ccd-aba8-920e9da41e5c",
   "metadata": {},
   "source": [
    "## 5. Why PCA was useful: A business perspective\n",
    "Principal Component Analysis helped in several ways:\n",
    "- Dimensionality Reduction: Reduced feature set from 15+ to just a handful of uncorrelated components without losing critical variance.\n",
    "- Noise Filtering: Suppressed redundant weather features, keeping only those most useful for distinguishing turbulence patterns.\n",
    "- Interpretability: Enabled visual analysis of turbulent vs. non-turbulent samples, showing that turbulence forms unique clusters in transformed space.\n",
    "- Downstream Clustering: The transformed PCA data was used for K-Means clustering to assign unsupervised high-risk labels, which are important for detecting turbulence regimes even when labeled data is scarce."
   ]
  }
 ],
 "metadata": {
  "kernelspec": {
   "display_name": "Python (projectML)",
   "language": "python",
   "name": "projectml"
  },
  "language_info": {
   "codemirror_mode": {
    "name": "ipython",
    "version": 3
   },
   "file_extension": ".py",
   "mimetype": "text/x-python",
   "name": "python",
   "nbconvert_exporter": "python",
   "pygments_lexer": "ipython3",
   "version": "3.12.2"
  }
 },
 "nbformat": 4,
 "nbformat_minor": 5
}
