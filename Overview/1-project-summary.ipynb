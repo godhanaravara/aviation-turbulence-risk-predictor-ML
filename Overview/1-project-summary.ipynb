{
 "cells": [
  {
   "cell_type": "markdown",
   "id": "ce532e3f-e2ab-4a3e-9a91-2480362fa602",
   "metadata": {},
   "source": [
    "# 📘 Machine Learning for Turbulence Risk Prediction in U.S. Airspace Using Open Flight and Weather Data - Project Summary\n",
    "\n",
    "# ✈️ 1. Problem Statement\n",
    "# Predicting high-risk turbulence events using open aviation and weather datasets to enhance flight safety.\n",
    "# Traditional forecasting struggles with clear-air turbulence (CAT), especially without onboard sensors.\n",
    "\n",
    "# 🌍 2. Data Sources\n",
    "# - PIREPs (Pilot Reports) from Iowa Environmental Mesonet\n",
    "# - ERA5 Reanalysis Data (28 pressure levels, multiple weather variables)\n",
    "\n",
    "# ⚙️ 3. Pipeline Overview\n",
    "# - Data Cleaning & Matching (PIREPs + ERA5)\n",
    "# - Feature Engineering: Wind speed, shear, vorticity, cloud content, etc.\n",
    "# - Class Balancing:\n",
    "#     - Isolation Forest-based downsampling (NEG class)\n",
    "#     - SMOTE for SEV–EXTRM samples\n",
    "# - PCA + KMeans for pattern discovery\n",
    "# - Supervised Classification:\n",
    "#     - XGBoost (Main)\n",
    "#     - Random Forest, LightGBM, CatBoost, TabNet, KNN, Naive Bayes (Comparisons)\n",
    "\n",
    "# 📊 4. Evaluation\n",
    "# - Stratified 10-Fold Cross Validation\n",
    "# - Ablation study across different preprocessing variants\n",
    "# - Case study on unseen 2025 data (e.g., February 16)\n",
    "\n",
    "# ✅ 5. Results\n",
    "# - XGBoost achieved F1-score: 0.88, Accuracy: 91.97%\n",
    "# - PCA + KMeans uncovered a high-risk cluster with 82.35% SEV–EXTRM overlap\n",
    "# - Visual insights: Confusion matrices, 3D PCA plots, U.S. turbulence risk maps\n",
    "\n",
    "# 🧠 6. Skills Demonstrated\n",
    "# - Open data integration (APIs, CSVs)\n",
    "# - Data cleaning and feature extraction\n",
    "# - Handling class imbalance (anomaly scoring, SMOTE)\n",
    "# - Dimensionality reduction and unsupervised learning\n",
    "# - Supervised classification (tree-based and neural models)\n",
    "# - Cross-validation, performance analysis, and visualization\n",
    "\n",
    "# 🔒 7. Disclaimer\n",
    "# Full dataset and full code not publicly available to protect research integrity.\n",
    "# This repo showcases techniques, visualizations, and results from the project.\n",
    "# For inquiries or collaboration, please contact me directly.\n",
    "\n",
    "# 📎 Author: Godha Naravara\n",
    "# 📁 Repo: aviation-turbulence-risk-ML\n"
   ]
  },
  {
   "cell_type": "code",
   "execution_count": null,
   "id": "a8e0623a-7ff6-4a8b-acf9-2b84cdcc82d6",
   "metadata": {},
   "outputs": [],
   "source": []
  }
 ],
 "metadata": {
  "kernelspec": {
   "display_name": "Python (projectML)",
   "language": "python",
   "name": "projectml"
  },
  "language_info": {
   "codemirror_mode": {
    "name": "ipython",
    "version": 3
   },
   "file_extension": ".py",
   "mimetype": "text/x-python",
   "name": "python",
   "nbconvert_exporter": "python",
   "pygments_lexer": "ipython3",
   "version": "3.12.2"
  }
 },
 "nbformat": 4,
 "nbformat_minor": 5
}
