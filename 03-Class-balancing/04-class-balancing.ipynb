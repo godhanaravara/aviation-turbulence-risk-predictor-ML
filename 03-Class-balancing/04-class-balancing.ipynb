{
 "cells": [
  {
   "cell_type": "markdown",
   "id": "617f99d3-79f8-4c04-8d9b-e513f50988e2",
   "metadata": {},
   "source": [
    "# Class Balancing with Isolation Forest and SMOTE\n",
    "\n",
    "This notebook addresses the significant class imbalance between **NEG** (no turbulence) and **SEV–EXTRM** (severe/extreme turbulence) reports in the binary turbulence-risk classification task. A combined strategy was adopted (only on the training set):\n",
    "\n",
    "- Downsampling **NEG** using anomaly scores from **Isolation Forest**\n",
    "- Oversampling **SEV–EXTRM** using **SMOTE**\n",
    "\n",
    "---\n",
    "\n",
    "## ▸ Step 1: Downsampling NEG Class with Isolation Forest\n",
    "\n",
    "### Objective\n",
    "\n",
    "Retain only the most informative and diverse NEG (nagtive) reports by filtering out redundant, overly common cases that dominate the dataset.\n",
    "\n",
    "### Method\n",
    "\n",
    "An `IsolationForest` model was trained on weather-based features of NEG samples. The goal was to compute anomaly scores and select only the top anomalous samples, which are likely to be near decision boundaries.\n",
    "\n",
    "```python\n",
    "from sklearn.ensemble import IsolationForest\r\n",
    "\r\n",
    "iso_model = IsolationForest(n_estimators=100, contamination=0.8, random_state=42)\r\n",
    "neg_df[\"anomaly_score\"] = iso_model.fit_predict(neg_df[feature_cols])\r\n",
    "neg_df_anomalous = neg_df[neg_df[\"anomaly_score\"] == -1]\r\n",
    "\n",
    "```"
   ]
  },
  {
   "cell_type": "markdown",
   "id": "4e1a3cfe-6d43-41e5-b7b7-d6e70f31b409",
   "metadata": {},
   "source": [
    "This ensures that the model doesn’t learn a biased representation of the negative class and instead focuses on unusual but real-world NEG cases.\n",
    "\n",
    "### Visualization\n",
    "\n",
    "Density graph comparing anomaly score distributions of original vs. downsampled NEG samples.\n",
    "\n",
    "`neg_vs_downsampled_density.png`\n",
    "\n",
    "![PIREPs Map](images/neg_vs_downsampled_density.png)"
   ]
  },
  {
   "cell_type": "markdown",
   "id": "17b2d4ae-9a88-4708-ac4f-ce571f4112f9",
   "metadata": {},
   "source": [
    "---\n",
    "## ▸ Step 2: Oversampling SEV–EXTRM Class Using SMOTE\n",
    "\n",
    "### Objective\n",
    "\n",
    "Improve model sensitivity to rare SEV–EXTRM turbulence cases by synthetically increasing their representation, without affecting evaluation integrity.\n",
    "\n",
    "### Method\n",
    "\n",
    "`SMOTE` (Synthetic Minority Oversampling Technique) was applied only to the training set after splitting. This ensures that no synthetic data leaks into the test set and keeps evaluation realistic.\n",
    "\n",
    "```python\n",
    "from imblearn.over_sampling import SMOTE\n",
    "\n",
    "smote = SMOTE(random_state=42)\n",
    "X_train_resampled, y_train_resampled = smote.fit_resample(X_train, y_train)\n",
    "```\n",
    "\n",
    "This step helps the model generalize better by preventing it from being overwhelmed by NEG samples.\n",
    "\n",
    "## ▸ Final Class Distribution\n",
    "The final binary-labeled dataset after downsampling NEG and oversampling SEV–EXTRM achieved a significantly improved class balance while preserving natural diversity in both categories.\n"
   ]
  },
  {
   "cell_type": "markdown",
   "id": "11e6b967-0911-4ba3-9428-461dc7d31f1e",
   "metadata": {},
   "source": [
    "### Visualization\n",
    "\n",
    "U.S. map of sampled PIREPs colored by binary target class.\n",
    "\n",
    "`PIREP_Binary_Target_Distribution.png`\n",
    "\n",
    "![PIREPs Map](images/PIREP_Binary_Target_Distribution.png)\n",
    "\n"
   ]
  }
 ],
 "metadata": {
  "kernelspec": {
   "display_name": "Python (projectML)",
   "language": "python",
   "name": "projectml"
  },
  "language_info": {
   "codemirror_mode": {
    "name": "ipython",
    "version": 3
   },
   "file_extension": ".py",
   "mimetype": "text/x-python",
   "name": "python",
   "nbconvert_exporter": "python",
   "pygments_lexer": "ipython3",
   "version": "3.12.2"
  }
 },
 "nbformat": 4,
 "nbformat_minor": 5
}
